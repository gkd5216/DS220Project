{
 "cells": [
  {
   "cell_type": "markdown",
   "metadata": {},
   "source": [
    "Team Members: William Bolder, Jongin Choi, Gianna Delorenzo, Naman Joshi, Ryan Kaye, and Darren Zhu  \n",
    "Course: DS 220   \n",
    "Instructor: Professor Fonkam  \n",
    "Date: December 9, 2023\n",
    "# Rental Data Analysis of US Cities  \n",
    "## **Introduction**\n",
    "This project aims to analyze a real estate data set consisting of rent prices for major US cities between January 2015 to October 2023. The data set includes information on the Region Name (city), State, County Name, rent, etc. This data set was obtained from https://www.zillow.com/research/data/.  \n",
    "First, we will import pandas and matplotlib, and load the zillow data set."
   ]
  },
  {
   "cell_type": "code",
   "execution_count": 1,
   "metadata": {},
   "outputs": [],
   "source": [
    "import pandas as pd\n",
    "import matplotlib.pyplot as plt\n",
    "\n",
    "data = pd.read_csv('City_zori_uc_sfrcondomfr_sm_month.csv')"
   ]
  },
  {
   "cell_type": "markdown",
   "metadata": {},
   "source": [
    "### **Question 1: Which state has the highest average rent?**   \n",
    "1. To find the state with the highest average rent and also the corresponding rent value, first, identify the most recent date (`columns[-1]`) from the data set, which is October 2023.  \n",
    "2. Second, initialize a dictionary to hold the total rent values for each state.  \n",
    "3. Then, since we want to perform operations on each row of the data, we will use `iterrows()` in the for loop to iterate over each data frame row, which will yield an index and row data.  \n",
    "4. The for loop will get the state and rent. If the rent is already in the dictionary `rent_sums`, it will add the rent value, else, it will initialize a new value."
   ]
  },
  {
   "cell_type": "code",
   "execution_count": 2,
   "metadata": {},
   "outputs": [],
   "source": [
    "most_recent = data.columns[-1]\n",
    "\n",
    "# initialize dictionary\n",
    "rent_sums = {}\n",
    "\n",
    "# for each row in the data...\n",
    "for index, row in data.iterrows():\n",
    "    # get state and most recent rent\n",
    "    state = row['State']\n",
    "    rent = row[most_recent]\n",
    "\n",
    "    # if the rent is already in dictionary add\n",
    "    if state in rent_sums:\n",
    "        rent_sums[state] += rent\n",
    "        \n",
    "    # else initialize\n",
    "    else:\n",
    "        rent_sums[state] = rent"
   ]
  },
  {
   "cell_type": "markdown",
   "metadata": {},
   "source": [
    "5. Once the rent sum of each state is calculated, calculate the average rent for each state.\n",
    "6. First, count the number of unique cities for each state with `value_counts()` and then initialize a dictionary to hold the average state rents.  \n",
    "7. Then, in a for loop, for each state in the rent_sums dictionary, calculate the total rent, get the count of unique cities, calculate the average rent, and store the average rent in the `avg_state_rent` dictionary.\n",
    "8. For the final step, the state (max key) and the corresponding rent value, then print out the results.\n"
   ]
  },
  {
   "cell_type": "code",
   "execution_count": 3,
   "metadata": {},
   "outputs": [
    {
     "name": "stdout",
     "output_type": "stream",
     "text": [
      "The state with the highest average rent is NY with an average rent of $6153.50\n"
     ]
    }
   ],
   "source": [
    "# count the number of unique \"cities\" for each state with value_counts()\n",
    "state_rent_count = data['State'].value_counts()\n",
    "\n",
    "# initialize dictionary\n",
    "avg_state_rent = {}\n",
    "\n",
    "# for each state in rent_sums...\n",
    "for state in rent_sums:\n",
    "    total_rent = rent_sums[state] # total rent for state\n",
    "    city_count = state_rent_count[state] # get the count (number of cities) for state\n",
    "    avg_rent = total_rent / city_count # calculate the average rent\n",
    "    avg_state_rent[state] = avg_rent # store info in dictionary\n",
    "\n",
    "# highest rent state and the average rent value\n",
    "highest_rent_state = max(avg_state_rent, key = avg_state_rent.get)\n",
    "highest_avg_rent = max(avg_state_rent.values())\n",
    "\n",
    "print(f\"The state with the highest average rent is {highest_rent_state} with an average rent of ${highest_avg_rent:.2f}\")"
   ]
  },
  {
   "cell_type": "markdown",
   "id": "eea68af4",
   "metadata": {},
   "source": [
    "### **Question 2: What state has the lowest average rent?**\n",
    "1. Similar to question 1, in order to get the state with the lowest average rent and its corresponding rent, use the `min()` function to get the key (state) and lowest value (rent).\n",
    "2. Print the state and rent."
   ]
  },
  {
   "cell_type": "code",
   "execution_count": 4,
   "id": "fc16a60f",
   "metadata": {},
   "outputs": [
    {
     "name": "stdout",
     "output_type": "stream",
     "text": [
      "The state with the lowest average rent is ND with an average rent of $936.70\n"
     ]
    }
   ],
   "source": [
    "lowest_rent_state = min(avg_state_rent, key = avg_state_rent.get)\n",
    "lowest_avg_rent = min(avg_state_rent.values())\n",
    "\n",
    "print(f\"The state with the lowest average rent is {lowest_rent_state} with an average rent of ${lowest_avg_rent:.2f}\")"
   ]
  },
  {
   "cell_type": "markdown",
   "metadata": {},
   "source": [
    "### **Question 3: What are the top 5 US cities with the highest rent prices?**\n",
    "1. To find the top 5 US cities with the highest rent prices, first use the pandas `sort_values()` to sort the data in descending order.\n",
    "2. Then, use the data frame `head(5)` to retrieve the first 5 rows of the sorted data.\n",
    "3. Finally, in a for loop using `iterrows()` again, print out only the `RegionName` (City), `State`, and the most recent rent price."
   ]
  },
  {
   "cell_type": "code",
   "execution_count": 5,
   "metadata": {},
   "outputs": [
    {
     "name": "stdout",
     "output_type": "stream",
     "text": [
      "The top 5 US cities with the highest rent prices are:\n",
      "Sagaponack, NY: $70166.50\n",
      "Amagansett, NY: $66875.00\n",
      "Bridgehampton, NY: $60000.00\n",
      "Wainscott, NY: $45000.00\n",
      "Water Mill, NY: $40000.00\n"
     ]
    }
   ],
   "source": [
    "# sort data by most_recent in descending order\n",
    "sort_data = data.sort_values(by=most_recent, ascending=False)\n",
    "\n",
    "# get the top 5 using data frame head(5)\n",
    "top_5_highest = sort_data.head(5)\n",
    "\n",
    "print(\"The top 5 US cities with the highest rent prices are:\")\n",
    "\n",
    "# for each, only print RegionName, State, and rent\n",
    "for index, row in top_5_highest.iterrows():\n",
    "    print(f\"{row['RegionName']}, {row['State']}: ${row[most_recent]:.2f}\")\n"
   ]
  },
  {
   "cell_type": "markdown",
   "metadata": {},
   "source": [
    "### **Question 4: Are there noticeable patterns in the rent prices over the years?**  \n",
    "1. This question is looking to find the overall percent change in rent price from the first record in 2015 to the most current data available (2023-10-31).  \n",
    "2. First, we would calculate the percent change in rent for each city. The general formula to calculate percent change is ((final value - initial value) / initial value) * 100. In this case, the initial value would be `2015-01-31`.  \n",
    "3. Then, calculate the overall change in rent for all cities. To do so, use `mean()` to calculate the average overall change in rent for all cities.\n",
    "4. Print overall percent change."
   ]
  },
  {
   "cell_type": "code",
   "execution_count": 6,
   "metadata": {},
   "outputs": [
    {
     "name": "stdout",
     "output_type": "stream",
     "text": [
      "The overall percent change in rent for all cities is 70.30%\n"
     ]
    }
   ],
   "source": [
    "# calculate the percent change in rent for each city\n",
    "initial_rent = data['2015-01-31']\n",
    "final_rent = data[most_recent]\n",
    "\n",
    "percent_change_rent = ((final_rent - initial_rent) / initial_rent) * 100\n",
    "\n",
    "# calculate the overall change in rent for all cities\n",
    "overall_change = percent_change_rent.mean()\n",
    "\n",
    "print(f\"The overall percent change in rent for all cities is {overall_change:.2f}%\")"
   ]
  },
  {
   "cell_type": "markdown",
   "id": "2da0d3af",
   "metadata": {},
   "source": [
    "### **Question 5: What is the change in average rent in State College, PA for the past year? And show the rent price trend for the past year in a chart.**\n",
    "1. We want to calculate the change in average rent prices in State College, PA from `2022-10-31` to `2023-10-31` (most current data).  \n",
    "2. First, locate the data for State College by using `loc[]`.  \n",
    "3. Once the data is located, the rent data for `2022-10-31` and `2023-10-31` is extracted using `iloc[]`.\n",
    "4. Now, calculate the percent change in rent and the rent amount change for State College.\n",
    "5. Print percent change and average change."
   ]
  },
  {
   "cell_type": "code",
   "execution_count": 7,
   "id": "ee1424b7",
   "metadata": {},
   "outputs": [
    {
     "name": "stdout",
     "output_type": "stream",
     "text": [
      "The percent change in average rent in State College, PA from 2022-10-31 to 2023-10-31 is 3.58%\n",
      "The average change in rent is $61.67\n"
     ]
    }
   ],
   "source": [
    "# find the data for State College\n",
    "state_college_info =  data.loc[data['RegionName'] == 'State College']\n",
    "\n",
    "# extract data using .loc[]\n",
    "rent_oct_2022 = state_college_info['2022-10-31'].iloc[0]\n",
    "rent_current = state_college_info[most_recent].iloc[0]\n",
    "\n",
    "# calculate percent change and rent amount change\n",
    "pct_change_state_college = ((rent_current - rent_oct_2022) / rent_oct_2022) * 100\n",
    "rent_change_state_college = rent_current - rent_oct_2022\n",
    "\n",
    "print(f\"The percent change in average rent in State College, PA from 2022-10-31 to 2023-10-31 is {pct_change_state_college:.2f}%\")\n",
    "print(f\"The average change in rent is ${rent_change_state_college:.2f}\")"
   ]
  },
  {
   "cell_type": "markdown",
   "id": "e6314d59",
   "metadata": {},
   "source": [
    "6. To create a chart, first, get the dates from 2022-10-31 to 2023-10-31 using negative indexing.\n",
    "7. Then, get the data for the respective dates and convert to series using `squeeze()`.\n",
    "8. Now, create a line plot, first by identifying the size and then plot the information and use 'o' as markers.\n",
    "9. Finally, give the graph an appropriate title and axis names, and rotate the x axis labels by 90 degrees so it would fit and show the plot."
   ]
  },
  {
   "cell_type": "code",
   "execution_count": 20,
   "id": "478bc15c",
   "metadata": {},
   "outputs": [
    {
     "data": {
      "image/png": "[encoded data removed]",
      "text/plain": [
       "<Figure size 1000x500 with 1 Axes>"
      ]
     },
     "metadata": {},
     "output_type": "display_data"
    }
   ],
   "source": [
    "# get dates from 2022-10-31 to 2023-10-31 and get data and use squeeze to convert to series\n",
    "dates = state_college_info.columns[-13:]\n",
    "rent_sc = state_college_info.loc[:, dates].squeeze()\n",
    "\n",
    "# create line plot\n",
    "plt.figure(figsize=(10, 5))\n",
    "plt.plot(dates, rent_sc, marker='o') # use 'o' as markers\n",
    "\n",
    "# title and axis\n",
    "plt.title('Rental Price Trend for State College, PA for the Past Year')\n",
    "plt.xlabel('Date')\n",
    "plt.ylabel('Rent')\n",
    "plt.xticks(rotation=90) # rotate to fit\n",
    "plt.grid(True) # add a grid\n",
    "\n",
    "plt.show()"
   ]
  },
  {
   "cell_type": "markdown",
   "id": "c4ebcdc5",
   "metadata": {},
   "source": [
    "### **Question 6: What is a most expensive metropolitan area?** \n",
    "1. First, group the data by the column 'Metro' while selecting the column 'most_recent,' and obtain the average value by using `mean()`.\n",
    "2. Identify the most expensive metro using `idxmax()`.\n",
    "3. Identigy the morresponding corresponding highest rent using `max()`.\n",
    "4. Print the state and rent."
   ]
  },
  {
   "cell_type": "code",
   "execution_count": 9,
   "id": "8dcb2abe",
   "metadata": {},
   "outputs": [
    {
     "name": "stdout",
     "output_type": "stream",
     "text": [
      "The most expensive metropolitan area is Glenwood Springs, CO, with an average rent of $10416.50\n"
     ]
    }
   ],
   "source": [
    "# calculate the average rent for each metro\n",
    "avg_metro = data.groupby('Metro')[most_recent].mean()\n",
    "\n",
    "# most expensive metro and the average rent\n",
    "most_expensive_metro = avg_metro.idxmax()\n",
    "metro_highest_rent = avg_metro.max()\n",
    "\n",
    "print(f\"The most expensive metropolitan area is {most_expensive_metro}, with an average rent of ${metro_highest_rent:.2f}\")"
   ]
  },
  {
   "cell_type": "markdown",
   "id": "9730d60b",
   "metadata": {},
   "source": [
    "## **Results**\n",
    "1. State with the highest average rent: NY, average rent in NY: $6,153.50. \n",
    "2. State with the lowest average rent: ND, average rent in ND: $936.70.  \n",
    "3. Top 5 cities with the highest rent prices are:  \n",
    "    1. Sagaponack, NY: $70,166.50  \n",
    "    2. Amagansett, NY: $66,875.00  \n",
    "    3. Bridgehampton, NY: $60,000.00  \n",
    "    4. Wainscott, NY: $45,000.00  \n",
    "    5. Water Mill, NY: $40,000.00     \n",
    "4. The overall percent change in rent prices from 2015-01-31 to 2023-10-31 is 70.30%.  \n",
    "5. Average change in rent in State College, PA from 2022-10-31 to 2023-10-31: 3.58% or $61.67 increase.\n",
    "6. The most expensive metropolitan area is Glenwood Springs, CO with an average rent of $10,416.50."
   ]
  },
  {
   "cell_type": "markdown",
   "id": "4e13ae2c",
   "metadata": {},
   "source": [
    "### **Resources**\n",
    "Here are some additional resources for further insight into the dataset provided by Zillow.  \n",
    "1. **Average Rental Price in State College, PA & Market Trends** https://www.zillow.com/rental-manager/market-trends/state-college-pa/\n",
    "2. **Rent Comparison Tool & Rental Market Trends Data** https://www.zillow.com/rental-manager/market-trends/ \n",
    "\n",
    "Users can adjust some factors such as the number of bedrooms or home type to see the difference in rent prices and change in rent prices."
   ]
  },
  {
   "cell_type": "markdown",
   "id": "2136ad71",
   "metadata": {},
   "source": [
    "### **Insights and Conclusion**\n",
    "#### Insights\n",
    "1. **Patterns in the rent prices.** The data uncovers that the average percent change in rent across the US for the past 8 years is approximately 70.30%, which is on average 8.79% increase per year. \n",
    "2. **State College Trends.** Analysis of the State College rental market reveals a rent increase of 3.58% from 2022-10-31 to 2023-10-31, which is lower than the national average for rent increase. This could be due to the fact that State College is primarily a student rental market, which is suppressing the rent prices.\n",
    "3. **Highest rent cities and most expensive metropolitan area.** The cities for having the highest average rent and the most expensive metropolitan area identified are all lesser known places, but abundant in luxury real estate. This analysis could be beneficial for investors or stakeholders interested in luxury real estate.\n",
    "\n",
    "#### Conclusion\n",
    "The rental market has many trends across different states, cities, and metropolitan areas. Unveiling the different trends from this data set is beneficial to both renters and property owners (and investors and stakeholders). The data and project highlights some of the more expensive places to live and also the cheapest place to live based on the data presented. This may be beneficial to those either want to live in a luxury market or those who wants a more affordable option.  \n",
    "\n",
    "Further analysis and information could provide more insight into the specific factors driving these trends in the rental market. Additional data sets such as population growth, demographics, or economics data could provide a more comprehensive understanding of the changes in the rental market in the US."
   ]
  }
 ],
 "metadata": {
  "kernelspec": {
   "display_name": "Python 3",
   "language": "python",
   "name": "python3"
  },
  "language_info": {
   "codemirror_mode": {
    "name": "ipython",
    "version": 3
   },
   "file_extension": ".py",
   "mimetype": "text/x-python",
   "name": "python",
   "nbconvert_exporter": "python",
   "pygments_lexer": "ipython3",
   "version": "3.10.13"
  }
 },
 "nbformat": 4,
 "nbformat_minor": 5
}
